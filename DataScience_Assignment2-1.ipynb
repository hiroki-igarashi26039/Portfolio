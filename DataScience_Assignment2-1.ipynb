{
 "cells": [
  {
   "cell_type": "markdown",
   "metadata": {},
   "source": [
    "<H2>課題2-1: 一元分散分析</H2>\n",
    "<p>A社は、エタノールを製造・販売しています。5本の製造ラインがありますが、これらのラインにより製品の濃度に差がないかどうかを確認したく思います。5本のライン(A, B, C, D, E)から10回ずつサンプリングを行い測定を行った結果が *dataset/data1.csv* です（データ数の合計：50件）。このデータを一元分散分析にて解析し、結論を出してみましょう。</p>\n",
    "<p>レッスン7までで学んだ内容を踏まえ、各セルに入っているコメントを実行するコードを記入してください。</p>"
   ]
  },
  {
   "cell_type": "markdown",
   "metadata": {},
   "source": [
    "<H2>1. 必要なモジュールの読み込み¶</H2>"
   ]
  },
  {
   "cell_type": "code",
   "execution_count": 1,
   "metadata": {},
   "outputs": [],
   "source": [
    "import numpy as np\n",
    "import pandas as pd\n",
    "import scipy as sp\n",
    "from scipy import stats\n",
    "\n",
    "from matplotlib import pyplot as plt\n",
    "import seaborn as sns\n",
    "sns.set()\n",
    "\n",
    "import statsmodels.formula.api as smf\n",
    "import statsmodels.api as sm\n",
    "\n",
    "%matplotlib inline"
   ]
  },
  {
   "cell_type": "markdown",
   "metadata": {},
   "source": [
    "<H2>2. データの読み込み</H2>"
   ]
  },
  {
   "cell_type": "code",
   "execution_count": 2,
   "metadata": {},
   "outputs": [],
   "source": [
    "# データを読み込んで変数 data に格納\n",
    "data = pd.read_csv(\"dataset/data1.csv\")"
   ]
  },
  {
   "cell_type": "code",
   "execution_count": 3,
   "metadata": {
    "scrolled": true
   },
   "outputs": [
    {
     "data": {
      "text/html": [
       "<div>\n",
       "<style scoped>\n",
       "    .dataframe tbody tr th:only-of-type {\n",
       "        vertical-align: middle;\n",
       "    }\n",
       "\n",
       "    .dataframe tbody tr th {\n",
       "        vertical-align: top;\n",
       "    }\n",
       "\n",
       "    .dataframe thead th {\n",
       "        text-align: right;\n",
       "    }\n",
       "</style>\n",
       "<table border=\"1\" class=\"dataframe\">\n",
       "  <thead>\n",
       "    <tr style=\"text-align: right;\">\n",
       "      <th></th>\n",
       "      <th>Density</th>\n",
       "      <th>Line</th>\n",
       "    </tr>\n",
       "  </thead>\n",
       "  <tbody>\n",
       "    <tr>\n",
       "      <th>0</th>\n",
       "      <td>71.624345</td>\n",
       "      <td>A</td>\n",
       "    </tr>\n",
       "    <tr>\n",
       "      <th>1</th>\n",
       "      <td>69.388244</td>\n",
       "      <td>A</td>\n",
       "    </tr>\n",
       "    <tr>\n",
       "      <th>2</th>\n",
       "      <td>69.471828</td>\n",
       "      <td>A</td>\n",
       "    </tr>\n",
       "    <tr>\n",
       "      <th>3</th>\n",
       "      <td>68.927031</td>\n",
       "      <td>A</td>\n",
       "    </tr>\n",
       "    <tr>\n",
       "      <th>4</th>\n",
       "      <td>70.865408</td>\n",
       "      <td>A</td>\n",
       "    </tr>\n",
       "  </tbody>\n",
       "</table>\n",
       "</div>"
      ],
      "text/plain": [
       "     Density Line\n",
       "0  71.624345    A\n",
       "1  69.388244    A\n",
       "2  69.471828    A\n",
       "3  68.927031    A\n",
       "4  70.865408    A"
      ]
     },
     "execution_count": 3,
     "metadata": {},
     "output_type": "execute_result"
    }
   ],
   "source": [
    "# データの最初の5行だけ表示\n",
    "data.head()"
   ]
  },
  {
   "cell_type": "markdown",
   "metadata": {},
   "source": [
    "<H2>3. データ内容の把握</H2>"
   ]
  },
  {
   "cell_type": "code",
   "execution_count": 4,
   "metadata": {},
   "outputs": [
    {
     "data": {
      "text/plain": [
       "<matplotlib.axes._subplots.AxesSubplot at 0x7f30a87b3ef0>"
      ]
     },
     "execution_count": 4,
     "metadata": {},
     "output_type": "execute_result"
    },
    {
     "data": {
      "image/png": "[encoded data removed]",
      "text/plain": [
       "<Figure size 432x288 with 1 Axes>"
      ]
     },
     "metadata": {
      "needs_background": "light"
     },
     "output_type": "display_data"
    }
   ],
   "source": [
    "# （データ数が多くはないので）箱髭図にて製造ラインごとの濃度を表示\n",
    "\n",
    "sns.boxplot(x='Line', y='Density', data=data)"
   ]
  },
  {
   "cell_type": "markdown",
   "metadata": {},
   "source": [
    "<H2>4. 分散分析</H2>\n",
    "<p>ここでは理解を深めるために手動で計算して理解を深めましょう。</p>"
   ]
  },
  {
   "cell_type": "markdown",
   "metadata": {},
   "source": [
    "<H3>4-1. 群間・群内平方和の計算</H3>"
   ]
  },
  {
   "cell_type": "code",
   "execution_count": 5,
   "metadata": {},
   "outputs": [
    {
     "name": "stdout",
     "output_type": "stream",
     "text": [
      "Line A: 69.9028591091939\n",
      "Line B: 69.36865005840153\n",
      "Line C: 68.42904350984494\n",
      "Line D: 68.73809656689362\n",
      "Line E: 69.23379915563066\n",
      "A-E All: 69.13448967999292\n"
     ]
    }
   ],
   "source": [
    "# ラインの持つ影響（ラインによる影響を考えた場合の濃度）\n",
    "me_Line_A = sp.mean(data.query('Line == \"A\"')['Density'])\n",
    "me_Line_B = sp.mean(data.query('Line == \"B\"')['Density'])\n",
    "me_Line_C = sp.mean(data.query('Line == \"C\"')['Density'])\n",
    "me_Line_D = sp.mean(data.query('Line == \"D\"')['Density'])\n",
    "me_Line_E = sp.mean(data.query('Line == \"E\"')['Density'])\n",
    "mu_all = sp.mean(data['Density'])\n",
    "print('Line A:', me_Line_A)\n",
    "print('Line B:', me_Line_B)\n",
    "print('Line C:', me_Line_C)\n",
    "print('Line D:', me_Line_D)\n",
    "print('Line E:', me_Line_E)\n",
    "print('A-E All:', mu_all)"
   ]
  },
  {
   "cell_type": "code",
   "execution_count": 6,
   "metadata": {},
   "outputs": [
    {
     "data": {
      "text/plain": [
       "13.098668335875447"
      ]
     },
     "execution_count": 6,
     "metadata": {},
     "output_type": "execute_result"
    }
   ],
   "source": [
    "#　群間の平方和を求める\n",
    "\n",
    "effect = [me_Line_A]*10 + [me_Line_B]*10 + [me_Line_C]*10 + [me_Line_D]*10 + [me_Line_E]*10\n",
    "effect = np.array(effect)\n",
    "\n",
    "squares_line = sp.sum((effect-mu_all)**2)\n",
    "squares_line"
   ]
  },
  {
   "cell_type": "code",
   "execution_count": 7,
   "metadata": {},
   "outputs": [
    {
     "data": {
      "text/plain": [
       "1.497932291395125"
      ]
     },
     "execution_count": 7,
     "metadata": {},
     "output_type": "execute_result"
    }
   ],
   "source": [
    "#　群間の誤差を求める\n",
    "'''誤差の自由度：全体の自由度(全50件 - 1) - ラインの自由度(5製造ライン-1)'''\n",
    "df_resid = (50 - 1) - (5 - 1)\n",
    "\n",
    "'''全体の平方和を算出'''\n",
    "squares_all = sp.sum((data['Density'] - mu_all)**2)\n",
    "'''※ラインの平方和は上で算出済み'''\n",
    "\n",
    "'''誤差(郡内？)の平方和：　全体の平方和 - ラインの平方和'''\n",
    "squares_resid = squares_all - squares_line\n",
    "\n",
    "'''群間の誤差の分散：　誤差の平方和 / 誤差の自由度'''\n",
    "variance_line = squares_resid / df_resid\n",
    "variance_line"
   ]
  },
  {
   "cell_type": "code",
   "execution_count": 8,
   "metadata": {},
   "outputs": [
    {
     "data": {
      "text/plain": [
       "67.40695311278063"
      ]
     },
     "execution_count": 8,
     "metadata": {},
     "output_type": "execute_result"
    }
   ],
   "source": [
    "#　群内の平方和を求める\n",
    "squares_resid = squares_all - squares_line\n",
    "squares_resid"
   ]
  },
  {
   "cell_type": "markdown",
   "metadata": {},
   "source": [
    "<H3>4-2. 群間・群内分散の計算</H3>"
   ]
  },
  {
   "cell_type": "code",
   "execution_count": 9,
   "metadata": {},
   "outputs": [],
   "source": [
    " # 群間変動の自由度を変数 df_model に格納し、群内変動の自由度を変数 df_resid に格納する\n",
    "'''郡内変動の自由度→誤差の自由度？'''\n",
    "df_model = 5 - 1\n",
    "df_resid = (50 - 1) - df_model"
   ]
  },
  {
   "cell_type": "code",
   "execution_count": 10,
   "metadata": {},
   "outputs": [
    {
     "data": {
      "text/plain": [
       "3.2746670839688616"
      ]
     },
     "execution_count": 10,
     "metadata": {},
     "output_type": "execute_result"
    }
   ],
   "source": [
    "# 群間の平均平方（分散）を求める\n",
    "'''群間の分散：　平方和 / 自由度'''\n",
    "variance_line = squares_line / df_model\n",
    "variance_line"
   ]
  },
  {
   "cell_type": "code",
   "execution_count": 11,
   "metadata": {},
   "outputs": [
    {
     "data": {
      "text/plain": [
       "1.497932291395125"
      ]
     },
     "execution_count": 11,
     "metadata": {},
     "output_type": "execute_result"
    }
   ],
   "source": [
    "# 群内の平均平方（分散）を求める\n",
    "variance_resid = squares_resid / df_resid\n",
    "variance_resid"
   ]
  },
  {
   "cell_type": "markdown",
   "metadata": {},
   "source": [
    "<H3>4-3. p値の計算</H3>"
   ]
  },
  {
   "cell_type": "code",
   "execution_count": 12,
   "metadata": {},
   "outputs": [
    {
     "data": {
      "text/plain": [
       "2.18612490216026"
      ]
     },
     "execution_count": 12,
     "metadata": {},
     "output_type": "execute_result"
    }
   ],
   "source": [
    "# F比を求める\n",
    "'''ラインのF比：　群間の分散 / 誤差(郡内？)の分散'''\n",
    "f_ratio_line = variance_line / variance_resid\n",
    "f_ratio_line"
   ]
  },
  {
   "cell_type": "code",
   "execution_count": 13,
   "metadata": {},
   "outputs": [
    {
     "data": {
      "text/plain": [
       "0.0857496485120679"
      ]
     },
     "execution_count": 13,
     "metadata": {},
     "output_type": "execute_result"
    }
   ],
   "source": [
    "# p値を求めて、表示する\n",
    "'''ラインのP値'''\n",
    "1-sp.stats.f.cdf(x=f_ratio_line, dfn=df_model, dfd=df_resid)"
   ]
  },
  {
   "cell_type": "markdown",
   "metadata": {},
   "source": [
    "<H2>5. Statsmodelsによる分散分析</H2>\n",
    "<p>実務ではStatsmodelsを使って実行していくことになります。次に、Statsmodelsのパッケージを用いて計算してみましょう。</p>"
   ]
  },
  {
   "cell_type": "code",
   "execution_count": 14,
   "metadata": {},
   "outputs": [],
   "source": [
    "# 最小二乗法を使ってモデルを作成\n",
    "anova_model = smf.ols('Density ~ Line', data=data).fit()"
   ]
  },
  {
   "cell_type": "code",
   "execution_count": 15,
   "metadata": {
    "scrolled": true
   },
   "outputs": [
    {
     "data": {
      "text/html": [
       "<div>\n",
       "<style scoped>\n",
       "    .dataframe tbody tr th:only-of-type {\n",
       "        vertical-align: middle;\n",
       "    }\n",
       "\n",
       "    .dataframe tbody tr th {\n",
       "        vertical-align: top;\n",
       "    }\n",
       "\n",
       "    .dataframe thead th {\n",
       "        text-align: right;\n",
       "    }\n",
       "</style>\n",
       "<table border=\"1\" class=\"dataframe\">\n",
       "  <thead>\n",
       "    <tr style=\"text-align: right;\">\n",
       "      <th></th>\n",
       "      <th>df</th>\n",
       "      <th>sum_sq</th>\n",
       "      <th>mean_sq</th>\n",
       "      <th>F</th>\n",
       "      <th>PR(&gt;F)</th>\n",
       "    </tr>\n",
       "  </thead>\n",
       "  <tbody>\n",
       "    <tr>\n",
       "      <th>Line</th>\n",
       "      <td>4.0</td>\n",
       "      <td>13.098668</td>\n",
       "      <td>3.274667</td>\n",
       "      <td>2.186125</td>\n",
       "      <td>0.08575</td>\n",
       "    </tr>\n",
       "    <tr>\n",
       "      <th>Residual</th>\n",
       "      <td>45.0</td>\n",
       "      <td>67.406953</td>\n",
       "      <td>1.497932</td>\n",
       "      <td>NaN</td>\n",
       "      <td>NaN</td>\n",
       "    </tr>\n",
       "  </tbody>\n",
       "</table>\n",
       "</div>"
      ],
      "text/plain": [
       "            df     sum_sq   mean_sq         F   PR(>F)\n",
       "Line       4.0  13.098668  3.274667  2.186125  0.08575\n",
       "Residual  45.0  67.406953  1.497932       NaN      NaN"
      ]
     },
     "execution_count": 15,
     "metadata": {},
     "output_type": "execute_result"
    }
   ],
   "source": [
    "# Statsmodelsの関数で分散分析を実行し、結果を表示\n",
    "sm.stats.anova_lm(anova_model, typ=1)"
   ]
  },
  {
   "cell_type": "markdown",
   "metadata": {},
   "source": [
    "手動で計算した場合と結果は一致しましたか？"
   ]
  },
  {
   "cell_type": "markdown",
   "metadata": {},
   "source": [
    "<H2>6. 結果の解釈</H2>"
   ]
  },
  {
   "cell_type": "markdown",
   "metadata": {
    "scrolled": true
   },
   "source": [
    "ラインによって、製品の濃度は「 有意に差があるとは言えない 」と判断できる（ここをダブルクリックして編集状態にし、カギカッコの中に文言を埋めてください）"
   ]
  },
  {
   "cell_type": "markdown",
   "metadata": {},
   "source": [
    "*補足：有意差がみられた場合、これは化学メーカーとしては問題ですので製造ラインの詳細を確認する必要があります。*"
   ]
  }
 ],
 "metadata": {
  "kernelspec": {
   "display_name": "Python 3",
   "language": "python",
   "name": "python3"
  },
  "language_info": {
   "codemirror_mode": {
    "name": "ipython",
    "version": 3
   },
   "file_extension": ".py",
   "mimetype": "text/x-python",
   "name": "python",
   "nbconvert_exporter": "python",
   "pygments_lexer": "ipython3",
   "version": "3.6.5"
  }
 },
 "nbformat": 4,
 "nbformat_minor": 2
}
