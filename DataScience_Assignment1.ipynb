{
 "cells": [
  {
   "cell_type": "markdown",
   "metadata": {},
   "source": [
    "<H2>課題1：仮説検定を実装する</H2>\n",
    "<p>ここでは、いわゆる古典的統計手法と言われる仮説検定をPythonで実装してみましょう。</p>\n",
    "<p>レッスン6までで学んだ内容を踏まえ、各セルに入っているコメントを実行するコードを記入してください。</p>"
   ]
  },
  {
   "cell_type": "markdown",
   "metadata": {},
   "source": [
    "<H2>1. 必要なモジュールの読み込み</H2>"
   ]
  },
  {
   "cell_type": "code",
   "execution_count": 1,
   "metadata": {},
   "outputs": [],
   "source": [
    "import scipy as sp\n",
    "import matplotlib.pyplot as plt\n",
    "import seaborn as sns\n",
    "sns.set()\n",
    "from scipy import stats\n",
    "\n",
    "%matplotlib inline\n",
    "import numpy as np"
   ]
  },
  {
   "cell_type": "markdown",
   "metadata": {},
   "source": [
    "<H2>2. 1標本における解析</H2>\n",
    "<p>本課題では乱数を発生させることでデータを作成し、それについて解析してみましょう。</p>\n",
    "<p>乱数のパラメータを変更すると結果がどう変化するのか、試してみるとより理解が深まるかと思います。</p>"
   ]
  },
  {
   "cell_type": "code",
   "execution_count": 2,
   "metadata": {},
   "outputs": [],
   "source": [
    "# 任意の平均値・標準偏差をもつ正規乱数を任意のサイズで作成し、\"data1\"に格納\n",
    "#■平均100、標準偏差20、サイズ10000個で乱数作成\n",
    "np.random.seed(1)\n",
    "data1 = stats.norm.rvs(loc = 100, scale = 20, size = 10000)\n",
    "\n",
    "#メモ：分けて書く場合\n",
    "#norm_dist = stats.norm(loc = 100, scale = 20)\n",
    "#data1 = norm_dist.rvs(size = 10000)"
   ]
  },
  {
   "cell_type": "code",
   "execution_count": 3,
   "metadata": {
    "scrolled": false
   },
   "outputs": [
    {
     "data": {
      "text/plain": [
       "<matplotlib.axes._subplots.AxesSubplot at 0x7fcd81c67ac8>"
      ]
     },
     "execution_count": 3,
     "metadata": {},
     "output_type": "execute_result"
    },
    {
     "data": {
      "image/png": "[encoded data removed]",
      "text/plain": [
       "<Figure size 432x288 with 1 Axes>"
      ]
     },
     "metadata": {},
     "output_type": "display_data"
    }
   ],
   "source": [
    "#　data1のヒストグラムを作成\n",
    "sns.set()\n",
    "\n",
    "sns.distplot(data1, kde=False)"
   ]
  },
  {
   "cell_type": "code",
   "execution_count": 4,
   "metadata": {},
   "outputs": [
    {
     "data": {
      "text/plain": [
       "100.1954531339821"
      ]
     },
     "execution_count": 4,
     "metadata": {},
     "output_type": "execute_result"
    }
   ],
   "source": [
    "# 母平均の点推定を計算し、結果を表示\n",
    "mu = sp.mean(data1)\n",
    "mu"
   ]
  },
  {
   "cell_type": "code",
   "execution_count": 5,
   "metadata": {},
   "outputs": [
    {
     "data": {
      "text/plain": [
       "(99.803869299724, 100.5870369682402)"
      ]
     },
     "execution_count": 5,
     "metadata": {},
     "output_type": "execute_result"
    }
   ],
   "source": [
    "# 95%信頼区間の推定を行い、上側信頼限界と下側信頼限界の値を表示\n",
    "\n",
    "df = len(data1)-1\n",
    "sigma = sp.std(data1, ddof=1)\n",
    "se = sigma/sp.sqrt(len(data1))\n",
    "\n",
    "interval = stats.t.interval(alpha=0.95, df=df, loc=mu, scale = se)\n",
    "interval"
   ]
  },
  {
   "cell_type": "code",
   "execution_count": 6,
   "metadata": {},
   "outputs": [
    {
     "name": "stdout",
     "output_type": "stream",
     "text": [
      "0.9987588440380334\n",
      "0.001441244027114097\n"
     ]
    }
   ],
   "source": [
    "#■片側検証\n",
    "# 任意のt値を設定し、片側検定した結果を表示\n",
    "\n",
    "#値を指定、t値を求める\n",
    "t_value = (mu-100.8)/se\n",
    "t_value\n",
    "\n",
    "#片側検証α\n",
    "alpha = stats.t.cdf(t_value, df=df)\n",
    "print(1-alpha)\n",
    "\n",
    "#p値が0.05を上回っているので、平均は100.8より有意に大きいとは言えない\n",
    "\n",
    "\n",
    "\n",
    "#値を指定、t値を求める\n",
    "t_value = (mu-99.6)/se\n",
    "t_value\n",
    "\n",
    "#片側検証α\n",
    "alpha = stats.t.cdf(t_value, df=df)\n",
    "print(1-alpha)\n",
    "\n",
    "#p値が0.05を下回っているので、平均は99.6より有意に大きいと言える"
   ]
  },
  {
   "cell_type": "code",
   "execution_count": 7,
   "metadata": {},
   "outputs": [
    {
     "name": "stdout",
     "output_type": "stream",
     "text": [
      "Ttest_1sampResult(statistic=-3.0262575392872972, pvalue=0.002482311923933114)\n",
      "Ttest_1sampResult(statistic=2.980735882190882, pvalue=0.002882488054228058)\n",
      "Ttest_1sampResult(statistic=0.9784047416981317, pvalue=0.3278978547856908)\n"
     ]
    }
   ],
   "source": [
    "#■両側検証\n",
    "# 任意のt値を設定し、両側検定した結果を表示\n",
    "\n",
    "#仮説平均値を設定\n",
    "print(stats.ttest_1samp(data1, 100.8))\n",
    "#pvalue=0.05を下回っているので、平均は100.8とは異なる\n",
    "\n",
    "#仮説平均値を設定\n",
    "print(stats.ttest_1samp(data1, 99.6))\n",
    "#pvalue=0.05を下回っているので、平均は99.6とは異なる\n",
    "\n",
    "print(stats.ttest_1samp(data1, 100))\n",
    "#pvalue=0.05を上回っているので、平均は100と言える\n"
   ]
  },
  {
   "cell_type": "markdown",
   "metadata": {},
   "source": [
    "<H2>3. 2標本における解析</H2>\n",
    "<p>標本をもう1つ増やし、先ほどの標本と差があるのか否かについて検討してみましょう。</p>"
   ]
  },
  {
   "cell_type": "code",
   "execution_count": 8,
   "metadata": {},
   "outputs": [],
   "source": [
    "# 任意の平均値・標準偏差をもつ正規乱数を任意のサイズで作成し、\"data2\"に格納\n",
    "np.random.seed(1)\n",
    "norm_dist = stats.norm(loc = 140, scale = 40)\n",
    "data2 = norm_dist.rvs(size = 10000)"
   ]
  },
  {
   "cell_type": "code",
   "execution_count": 9,
   "metadata": {},
   "outputs": [
    {
     "data": {
      "text/plain": [
       "<matplotlib.axes._subplots.AxesSubplot at 0x7fcd7fba6940>"
      ]
     },
     "execution_count": 9,
     "metadata": {},
     "output_type": "execute_result"
    },
    {
     "data": {
      "image/png": "[encoded data removed]",
      "text/plain": [
       "<Figure size 432x288 with 1 Axes>"
      ]
     },
     "metadata": {},
     "output_type": "display_data"
    }
   ],
   "source": [
    "# data1とdata2をヒストグラムにてプロット\n",
    "sns.distplot(data1)\n",
    "sns.distplot(data2)"
   ]
  },
  {
   "cell_type": "code",
   "execution_count": 10,
   "metadata": {},
   "outputs": [
    {
     "data": {
      "text/plain": [
       "Ttest_1sampResult(statistic=201.21151879097025, pvalue=0.0)"
      ]
     },
     "execution_count": 10,
     "metadata": {},
     "output_type": "execute_result"
    }
   ],
   "source": [
    "# data1, data2それぞれの値を使って「対応のあるt検定」で計算し、結果を表示\n",
    "data3 = data2 - data1\n",
    "stats.ttest_1samp(data3, 0)\n",
    "\n",
    "#p値が0.05を下回ったのでdata1とdata2は有意に異なる"
   ]
  },
  {
   "cell_type": "code",
   "execution_count": 11,
   "metadata": {},
   "outputs": [
    {
     "data": {
      "text/plain": [
       "Ttest_indResult(statistic=89.98452677451716, pvalue=0.0)"
      ]
     },
     "execution_count": 11,
     "metadata": {},
     "output_type": "execute_result"
    }
   ],
   "source": [
    "# data1, data2それぞれの値を使って「対応のないt検定」で計算し、結果を表示\n",
    "stats.ttest_ind(data2, data1, equal_var = False)\n",
    "\n",
    "#p値が0.05を下回ったのでdata1とdata2は有意に異なる"
   ]
  },
  {
   "cell_type": "markdown",
   "metadata": {},
   "source": [
    "<h2>4. ここまでの仮説検定の結果を解釈して下記に記載してください</h2>"
   ]
  },
  {
   "cell_type": "markdown",
   "metadata": {},
   "source": [
    "data1はdata2と「 有意に異なる 」（ここをダブルクリックして編集状態にし、カギカッコの中に文言を埋めてください）"
   ]
  },
  {
   "cell_type": "code",
   "execution_count": 12,
   "metadata": {},
   "outputs": [
    {
     "data": {
      "text/plain": [
       "[<matplotlib.lines.Line2D at 0x7fcd7fa54160>]"
      ]
     },
     "execution_count": 12,
     "metadata": {},
     "output_type": "execute_result"
    },
    {
     "data": {
      "image/png": "[encoded data removed]",
      "text/plain": [
       "<Figure size 432x288 with 1 Axes>"
      ]
     },
     "metadata": {},
     "output_type": "display_data"
    }
   ],
   "source": [
    "#---------------------------------------------------------------------\n",
    "#自分用のメモ：片側、両側pプロット曲線確認用\n",
    "\n",
    "#x軸添え字用\n",
    "x = np.arange(99, 101, 0.001)\n",
    "\n",
    "hairetsu = [['' for i in range(2)] for j in range(len(x))]\n",
    "hairetsu2 = ['' for j in range(len(x))]\n",
    "\n",
    "#片側検証の標準偏差、P値を二次元配列へ格納\n",
    "for i, j in enumerate(x):\n",
    "    t_value = (mu-j)/se\n",
    "    t_value\n",
    "    hairetsu[i][0] = t_value\n",
    "    \n",
    "    alpha = stats.t.cdf(t_value, df=df)\n",
    "    hairetsu[i][1] = (1-alpha)\n",
    "    hairetsu2[i] = (1-alpha)\n",
    "    i += 1\n",
    "\n",
    "#片側検証の標準偏差、p値のプリント\n",
    "#長いため非表示\n",
    "#for k,i in enumerate(hairetsu):\n",
    "#    print(f\"{hairetsu[k][0]}  {hairetsu[k][1]}            {hairetsu2[k]}\")\n",
    "\n",
    "#両側検証の標準偏差、p値算出とプリント\n",
    "aa = []\n",
    "for j in x:\n",
    "    #仮説平均値を設定\n",
    "#長いため非表示\n",
    "#    print(f\"{j} {stats.ttest_1samp(data1, j)}\")\n",
    "#    print(f\"{j} {stats.ttest_1samp(data1, j).pvalue}\")\n",
    "    aa.append(stats.ttest_1samp(data1, j).pvalue) \n",
    "    \n",
    "#片側、両側検証p値描画    \n",
    "plt.plot(x, hairetsu2)\n",
    "plt.plot(x, aa)\n",
    "\n",
    "#（片側は0.5付近の仮説平均値を真と予想？）\n",
    "#片側は仮説平均値が大きいほど1に収束。両側はピーク値で予想可能。"
   ]
  }
 ],
 "metadata": {
  "kernelspec": {
   "display_name": "Python 3",
   "language": "python",
   "name": "python3"
  },
  "language_info": {
   "codemirror_mode": {
    "name": "ipython",
    "version": 3
   },
   "file_extension": ".py",
   "mimetype": "text/x-python",
   "name": "python",
   "nbconvert_exporter": "python",
   "pygments_lexer": "ipython3",
   "version": "3.6.5"
  }
 },
 "nbformat": 4,
 "nbformat_minor": 2
}
